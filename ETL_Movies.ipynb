{
 "cells": [
  {
   "cell_type": "code",
   "execution_count": 132,
   "metadata": {},
   "outputs": [
    {
     "name": "stderr",
     "output_type": "stream",
     "text": [
      "C:\\Users\\Some User\\anaconda3\\envs\\PythonData\\lib\\site-packages\\IPython\\core\\interactiveshell.py:3072: DtypeWarning: Columns (10) have mixed types.Specify dtype option on import or set low_memory=False.\n",
      "  interactivity=interactivity, compiler=compiler, result=result)\n"
     ]
    }
   ],
   "source": [
    "import pandas as pd\n",
    "import datetime as dt\n",
    "\n",
    "movies_df= pd.read_csv(\"movies_metadata.csv\")\n",
    "links_small_df= pd.read_csv(\"links_small.csv\")\n",
    "ratings_small_df= pd.read_csv(\"ratings_small.csv\")\n",
    "\n"
   ]
  },
  {
   "cell_type": "code",
   "execution_count": 133,
   "metadata": {},
   "outputs": [],
   "source": [
    "#movies_df[[\"id\", \"imdb_id\"]]"
   ]
  },
  {
   "cell_type": "code",
   "execution_count": 134,
   "metadata": {},
   "outputs": [],
   "source": [
    "movies_df[\"id\"]= pd.to_numeric(movies_df[\"id\"],errors= \"coerce\")\n",
    "\n",
    "#movies_df"
   ]
  },
  {
   "cell_type": "code",
   "execution_count": 135,
   "metadata": {},
   "outputs": [],
   "source": [
    "movies_df = movies_df[[\"adult\",\"budget\",\"id\", \"imdb_id\", \"original_language\", \"original_title\", \"overview\", \"popularity\", \"release_date\", \"revenue\", \"runtime\", \"status\", \"tagline\", \"title\", \"video\", \"vote_average\", \"vote_count\"]]\n",
    "\n",
    "#movies_df.head()"
   ]
  },
  {
   "cell_type": "code",
   "execution_count": 136,
   "metadata": {},
   "outputs": [],
   "source": [
    "merged_df = pd.merge(movies_df, links_small_df, left_on= \"id\", right_on= \"tmdbId\")\n",
    "\n",
    "#merged_df"
   ]
  },
  {
   "cell_type": "code",
   "execution_count": 137,
   "metadata": {},
   "outputs": [],
   "source": [
    "merged_df= merged_df.dropna(subset= [\"id\"])\n",
    "\n",
    "#merged_df"
   ]
  },
  {
   "cell_type": "code",
   "execution_count": 138,
   "metadata": {},
   "outputs": [],
   "source": [
    "links_small_clean= merged_df[[\"movieId\",\"imdbId\", \"tmdbId\"]]\n",
    "#links_small_clean[\"tmdbId\"]= \n",
    "#links_small_clean"
   ]
  },
  {
   "cell_type": "code",
   "execution_count": 139,
   "metadata": {},
   "outputs": [],
   "source": [
    "movies_clean= merged_df[[\"adult\",\"budget\",\"id\", \"imdb_id\", \"original_language\", \"original_title\", \"overview\", \"popularity\", \"release_date\", \"revenue\", \"runtime\", \"status\", \"tagline\", \"title\", \"video\", \"vote_average\", \"vote_count\"]]\n",
    "\n",
    "#movies_clean"
   ]
  },
  {
   "cell_type": "code",
   "execution_count": 140,
   "metadata": {},
   "outputs": [
    {
     "data": {
      "text/html": [
       "<div>\n",
       "<style scoped>\n",
       "    .dataframe tbody tr th:only-of-type {\n",
       "        vertical-align: middle;\n",
       "    }\n",
       "\n",
       "    .dataframe tbody tr th {\n",
       "        vertical-align: top;\n",
       "    }\n",
       "\n",
       "    .dataframe thead th {\n",
       "        text-align: right;\n",
       "    }\n",
       "</style>\n",
       "<table border=\"1\" class=\"dataframe\">\n",
       "  <thead>\n",
       "    <tr style=\"text-align: right;\">\n",
       "      <th></th>\n",
       "      <th>userId</th>\n",
       "      <th>movieId</th>\n",
       "      <th>rating</th>\n",
       "      <th>timestamp</th>\n",
       "    </tr>\n",
       "  </thead>\n",
       "  <tbody>\n",
       "    <tr>\n",
       "      <th>0</th>\n",
       "      <td>1</td>\n",
       "      <td>31</td>\n",
       "      <td>2.5</td>\n",
       "      <td>2009-12-14 02:52:24</td>\n",
       "    </tr>\n",
       "    <tr>\n",
       "      <th>1</th>\n",
       "      <td>1</td>\n",
       "      <td>1029</td>\n",
       "      <td>3.0</td>\n",
       "      <td>2009-12-14 02:52:59</td>\n",
       "    </tr>\n",
       "    <tr>\n",
       "      <th>2</th>\n",
       "      <td>1</td>\n",
       "      <td>1061</td>\n",
       "      <td>3.0</td>\n",
       "      <td>2009-12-14 02:53:02</td>\n",
       "    </tr>\n",
       "    <tr>\n",
       "      <th>3</th>\n",
       "      <td>1</td>\n",
       "      <td>1129</td>\n",
       "      <td>2.0</td>\n",
       "      <td>2009-12-14 02:53:05</td>\n",
       "    </tr>\n",
       "    <tr>\n",
       "      <th>4</th>\n",
       "      <td>1</td>\n",
       "      <td>1172</td>\n",
       "      <td>4.0</td>\n",
       "      <td>2009-12-14 02:53:25</td>\n",
       "    </tr>\n",
       "    <tr>\n",
       "      <th>...</th>\n",
       "      <td>...</td>\n",
       "      <td>...</td>\n",
       "      <td>...</td>\n",
       "      <td>...</td>\n",
       "    </tr>\n",
       "    <tr>\n",
       "      <th>99999</th>\n",
       "      <td>671</td>\n",
       "      <td>6268</td>\n",
       "      <td>2.5</td>\n",
       "      <td>2003-10-08 02:16:10</td>\n",
       "    </tr>\n",
       "    <tr>\n",
       "      <th>100000</th>\n",
       "      <td>671</td>\n",
       "      <td>6269</td>\n",
       "      <td>4.0</td>\n",
       "      <td>2003-10-03 02:46:41</td>\n",
       "    </tr>\n",
       "    <tr>\n",
       "      <th>100001</th>\n",
       "      <td>671</td>\n",
       "      <td>6365</td>\n",
       "      <td>4.0</td>\n",
       "      <td>2003-12-09 03:26:03</td>\n",
       "    </tr>\n",
       "    <tr>\n",
       "      <th>100002</th>\n",
       "      <td>671</td>\n",
       "      <td>6385</td>\n",
       "      <td>2.5</td>\n",
       "      <td>2003-12-09 14:21:03</td>\n",
       "    </tr>\n",
       "    <tr>\n",
       "      <th>100003</th>\n",
       "      <td>671</td>\n",
       "      <td>6565</td>\n",
       "      <td>3.5</td>\n",
       "      <td>2004-01-22 15:18:44</td>\n",
       "    </tr>\n",
       "  </tbody>\n",
       "</table>\n",
       "<p>100004 rows × 4 columns</p>\n",
       "</div>"
      ],
      "text/plain": [
       "        userId  movieId  rating           timestamp\n",
       "0            1       31     2.5 2009-12-14 02:52:24\n",
       "1            1     1029     3.0 2009-12-14 02:52:59\n",
       "2            1     1061     3.0 2009-12-14 02:53:02\n",
       "3            1     1129     2.0 2009-12-14 02:53:05\n",
       "4            1     1172     4.0 2009-12-14 02:53:25\n",
       "...        ...      ...     ...                 ...\n",
       "99999      671     6268     2.5 2003-10-08 02:16:10\n",
       "100000     671     6269     4.0 2003-10-03 02:46:41\n",
       "100001     671     6365     4.0 2003-12-09 03:26:03\n",
       "100002     671     6385     2.5 2003-12-09 14:21:03\n",
       "100003     671     6565     3.5 2004-01-22 15:18:44\n",
       "\n",
       "[100004 rows x 4 columns]"
      ]
     },
     "execution_count": 140,
     "metadata": {},
     "output_type": "execute_result"
    }
   ],
   "source": [
    "ratings_small_df['timestamp'] = pd.to_datetime(ratings_small_df['timestamp'], unit='s')\n",
    "\n",
    "ratings_small_df"
   ]
  },
  {
   "cell_type": "code",
   "execution_count": 141,
   "metadata": {},
   "outputs": [],
   "source": [
    "#ratings_small_df.dtypes"
   ]
  },
  {
   "cell_type": "code",
   "execution_count": 143,
   "metadata": {},
   "outputs": [],
   "source": [
    "ratings_small_df.to_csv('ratings.csv')\n",
    "movies_clean.to_csv('movies.csv')\n",
    "links_small_clean.to_csv('links.csv')"
   ]
  },
  {
   "cell_type": "code",
   "execution_count": null,
   "metadata": {},
   "outputs": [],
   "source": []
  }
 ],
 "metadata": {
  "kernelspec": {
   "display_name": "Python [conda env:PythonData]",
   "language": "python",
   "name": "conda-env-PythonData-py"
  },
  "language_info": {
   "codemirror_mode": {
    "name": "ipython",
    "version": 3
   },
   "file_extension": ".py",
   "mimetype": "text/x-python",
   "name": "python",
   "nbconvert_exporter": "python",
   "pygments_lexer": "ipython3",
   "version": "3.6.10"
  }
 },
 "nbformat": 4,
 "nbformat_minor": 4
}
